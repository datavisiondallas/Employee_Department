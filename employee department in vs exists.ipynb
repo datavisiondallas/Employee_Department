{
 "cells": [
  {
   "cell_type": "code",
   "execution_count": 1,
   "metadata": {},
   "outputs": [],
   "source": [
    "import snowflake.connector\n",
    "import pandas as pd\n",
    "import numpy as np\n",
    "from faker import Faker"
   ]
  },
  {
   "cell_type": "code",
   "execution_count": 20,
   "metadata": {},
   "outputs": [],
   "source": [
    "import json"
   ]
  },
  {
   "cell_type": "code",
   "execution_count": 2,
   "metadata": {},
   "outputs": [],
   "source": [
    "# Create a Faker instance\n",
    "fake = Faker()"
   ]
  },
  {
   "cell_type": "code",
   "execution_count": 24,
   "metadata": {},
   "outputs": [],
   "source": [
    "# Load credentials from the config.json file located in the \"files\" folder\n",
    "with open('files/config.json') as config_file:\n",
    "    config = json.load(config_file)"
   ]
  },
  {
   "cell_type": "code",
   "execution_count": 27,
   "metadata": {},
   "outputs": [],
   "source": [
    "# Connect to Snowflake\n",
    "conn = snowflake.connector.connect(\n",
    "    user=config['SNOWFLAKE_USER'],\n",
    "    password=config['SNOWFLAKE_PASSWORD'],\n",
    "    account=config['SNOWFLAKE_ACCOUNT'],\n",
    "    warehouse=config['SNOWFLAKE_WAREHOUSE'],\n",
    "    role=config['SNOWFLAKE_ROLE']\n",
    ")"
   ]
  },
  {
   "cell_type": "code",
   "execution_count": 28,
   "metadata": {},
   "outputs": [],
   "source": [
    "# Create a cursor object\n",
    "cursor = conn.cursor()"
   ]
  },
  {
   "cell_type": "code",
   "execution_count": 9,
   "metadata": {},
   "outputs": [
    {
     "data": {
      "text/plain": [
       "<snowflake.connector.cursor.SnowflakeCursor at 0x18948006c70>"
      ]
     },
     "execution_count": 9,
     "metadata": {},
     "output_type": "execute_result"
    }
   ],
   "source": [
    "# Step 1: Use the existing Database\n",
    "cursor.execute(\"USE DATABASE ANALYTICS_DB\")\n",
    "\n",
    "# Step 2: Use the Schema\n",
    "cursor.execute(\"USE SCHEMA EMPLOYEE_DEPARTMENT_SCHEMA\")"
   ]
  },
  {
   "cell_type": "code",
   "execution_count": 10,
   "metadata": {},
   "outputs": [
    {
     "data": {
      "text/plain": [
       "<snowflake.connector.cursor.SnowflakeCursor at 0x18948006c70>"
      ]
     },
     "execution_count": 10,
     "metadata": {},
     "output_type": "execute_result"
    }
   ],
   "source": [
    "# Step 3: Create Tables in Snowflake\n",
    "\n",
    "# Create Employees table\n",
    "cursor.execute(\"\"\"\n",
    "    CREATE OR REPLACE TABLE EMPLOYEE_DEPARTMENT_SCHEMA.Employees (\n",
    "        EmployeeID INT,\n",
    "        EmployeeName STRING,\n",
    "        DepartmentID INT\n",
    "    );\n",
    "\"\"\")\n",
    "\n",
    "# Create Departments table\n",
    "cursor.execute(\"\"\"\n",
    "    CREATE OR REPLACE TABLE EMPLOYEE_DEPARTMENT_SCHEMA.Departments (\n",
    "        DepartmentID INT,\n",
    "        DepartmentName STRING\n",
    "    );\n",
    "\"\"\")\n"
   ]
  },
  {
   "cell_type": "code",
   "execution_count": 11,
   "metadata": {},
   "outputs": [],
   "source": [
    "# Generate and insert data using Faker\n",
    "num_rows = 100000\n",
    "\n",
    "# Generate data for Employees\n",
    "employees = pd.DataFrame({\n",
    "    'EmployeeID': np.arange(1, num_rows + 1),\n",
    "    'EmployeeName': [fake.name() for _ in range(num_rows)],\n",
    "    'DepartmentID': np.random.randint(1, 201, num_rows)  # Random department IDs from 1 to 200\n",
    "})"
   ]
  },
  {
   "cell_type": "code",
   "execution_count": 12,
   "metadata": {},
   "outputs": [],
   "source": [
    "# Generate data for Departments\n",
    "departments = pd.DataFrame({\n",
    "    'DepartmentID': np.arange(1, 201),\n",
    "    'DepartmentName': [fake.company_suffix() for _ in range(200)]\n",
    "})"
   ]
  },
  {
   "cell_type": "code",
   "execution_count": 13,
   "metadata": {},
   "outputs": [
    {
     "name": "stdout",
     "output_type": "stream",
     "text": [
      "Tables created successfully in ANALYTICS_DB, and data inserted.\n"
     ]
    }
   ],
   "source": [
    "# Convert data to tuples (for Snowflake insertion)\n",
    "employees_records = [tuple(x) for x in employees.to_numpy()]\n",
    "departments_records = [tuple(x) for x in departments.to_numpy()]\n",
    "\n",
    "# Insert data into Employees table\n",
    "insert_query = \"INSERT INTO EMPLOYEE_DEPARTMENT_SCHEMA.Employees (EmployeeID, EmployeeName, DepartmentID) VALUES (%s, %s, %s)\"\n",
    "cursor.executemany(insert_query, employees_records)\n",
    "\n",
    "# Insert data into Departments table\n",
    "insert_query = \"INSERT INTO EMPLOYEE_DEPARTMENT_SCHEMA.Departments (DepartmentID, DepartmentName) VALUES (%s, %s)\"\n",
    "cursor.executemany(insert_query, departments_records)\n",
    "\n",
    "# Commit the transaction\n",
    "conn.commit()\n",
    "\n",
    "# Close the cursor and connection\n",
    "cursor.close()\n",
    "conn.close()\n",
    "\n",
    "print(\"Tables created successfully in ANALYTICS_DB, and data inserted.\")"
   ]
  },
  {
   "cell_type": "code",
   "execution_count": 14,
   "metadata": {},
   "outputs": [],
   "source": [
    "import time\n",
    "import snowflake.connector"
   ]
  },
  {
   "cell_type": "code",
   "execution_count": 30,
   "metadata": {},
   "outputs": [],
   "source": [
    "# Connect to Snowflake\n",
    "conn = snowflake.connector.connect(\n",
    "    user=config['SNOWFLAKE_USER'],\n",
    "    password=config['SNOWFLAKE_PASSWORD'],\n",
    "    account=config['SNOWFLAKE_ACCOUNT'],\n",
    "    warehouse=config['SNOWFLAKE_WAREHOUSE'],\n",
    "    role=config['SNOWFLAKE_ROLE']\n",
    ")\n",
    "\n",
    "# Create a cursor object\n",
    "cursor = conn.cursor()\n"
   ]
  },
  {
   "cell_type": "code",
   "execution_count": 18,
   "metadata": {},
   "outputs": [
    {
     "data": {
      "text/plain": [
       "<snowflake.connector.cursor.SnowflakeCursor at 0x18948078580>"
      ]
     },
     "execution_count": 18,
     "metadata": {},
     "output_type": "execute_result"
    }
   ],
   "source": [
    "# Ensure database and schema are set\n",
    "cursor.execute(\"USE DATABASE ANALYTICS_DB\")\n",
    "cursor.execute(\"USE SCHEMA EMPLOYEE_DEPARTMENT_SCHEMA\")"
   ]
  },
  {
   "cell_type": "code",
   "execution_count": 19,
   "metadata": {},
   "outputs": [
    {
     "name": "stdout",
     "output_type": "stream",
     "text": [
      "IN query time: 0.7569029331207275 seconds\n",
      "EXISTS query time: 0.5043478012084961 seconds\n"
     ]
    }
   ],
   "source": [
    "# IN query\n",
    "in_query = \"\"\"\n",
    "SELECT EmployeeName\n",
    "FROM EMPLOYEE_DEPARTMENT_SCHEMA.Employees\n",
    "WHERE DepartmentID IN (SELECT DepartmentID FROM EMPLOYEE_DEPARTMENT_SCHEMA.Departments WHERE DepartmentName = 'Sales');\n",
    "\"\"\"\n",
    "\n",
    "# EXISTS query\n",
    "exists_query = \"\"\"\n",
    "SELECT EmployeeName\n",
    "FROM EMPLOYEE_DEPARTMENT_SCHEMA.Employees e\n",
    "WHERE EXISTS (SELECT 1 FROM EMPLOYEE_DEPARTMENT_SCHEMA.Departments d WHERE e.DepartmentID = d.DepartmentID AND d.DepartmentName = 'Sales');\n",
    "\"\"\"\n",
    "\n",
    "# Timing the IN query\n",
    "start_time_in = time.time()\n",
    "cursor.execute(in_query)\n",
    "cursor.fetchall()  # Fetching results to ensure the query runs completely\n",
    "end_time_in = time.time()\n",
    "\n",
    "# Timing the EXISTS query\n",
    "start_time_exists = time.time()\n",
    "cursor.execute(exists_query)\n",
    "cursor.fetchall()  # Fetching results to ensure the query runs completely\n",
    "end_time_exists = time.time()\n",
    "\n",
    "# Calculate execution times\n",
    "in_query_time = end_time_in - start_time_in\n",
    "exists_query_time = end_time_exists - start_time_exists\n",
    "\n",
    "# Print the results\n",
    "print(f\"IN query time: {in_query_time} seconds\")\n",
    "print(f\"EXISTS query time: {exists_query_time} seconds\")\n",
    "\n",
    "# Close the cursor and connection\n",
    "cursor.close()\n",
    "conn.close()\n"
   ]
  }
 ],
 "metadata": {
  "kernelspec": {
   "display_name": "Python 3",
   "language": "python",
   "name": "python3"
  },
  "language_info": {
   "codemirror_mode": {
    "name": "ipython",
    "version": 3
   },
   "file_extension": ".py",
   "mimetype": "text/x-python",
   "name": "python",
   "nbconvert_exporter": "python",
   "pygments_lexer": "ipython3",
   "version": "3.8.3"
  }
 },
 "nbformat": 4,
 "nbformat_minor": 4
}
